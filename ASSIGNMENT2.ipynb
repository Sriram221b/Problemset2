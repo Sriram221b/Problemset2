{
 "cells": [
  {
   "cell_type": "code",
   "execution_count": 1,
   "id": "a49ecbbc",
   "metadata": {},
   "outputs": [
    {
     "data": {
      "text/plain": [
       "6"
      ]
     },
     "execution_count": 1,
     "metadata": {},
     "output_type": "execute_result"
    }
   ],
   "source": [
    "#QUESTION-1\n",
    "a=0\n",
    "def b():\n",
    "    global a\n",
    "    a=c(a)\n",
    "\n",
    "def c(a):\n",
    "    return a + 2\n",
    "\n",
    "b()              # after this statement a values changes to 2\n",
    "b()              #after this,a value further increments by 2 and becomes 4\n",
    "b()              #after this,a values increase by 2 and becomes 6\n",
    "a                #a value gets printed which is 6"
   ]
  },
  {
   "cell_type": "code",
   "execution_count": 5,
   "id": "69b088fc",
   "metadata": {},
   "outputs": [
    {
     "name": "stdout",
     "output_type": "stream",
     "text": [
      "122\n"
     ]
    }
   ],
   "source": [
    "#QUESTION-2\n",
    "def file_length(file_name):\n",
    "    try:\n",
    "        file = open(file_name)\n",
    "        contents = file.read()\n",
    "        file.close()\n",
    "        print(len(contents))\n",
    "    except:\n",
    "        print(\"File\",file_name,\"not found\")       #this line throws an exception if interpreter is unable to find file\n",
    "        \n",
    "    \n",
    "    \n",
    "file_length('midterm.txt')"
   ]
  },
  {
   "cell_type": "code",
   "execution_count": 6,
   "id": "714ab48c",
   "metadata": {},
   "outputs": [
    {
     "name": "stdout",
     "output_type": "stream",
     "text": [
      "['doll', 'firetruck', 'kitten']\n",
      "I am a Kangaroo located at coordinates (0, 0)\n",
      " \n",
      "['doll', 'firetruck', 'kitten']\n",
      "I am a Kangaroo located at coordinates (3, 0)\n",
      " \n"
     ]
    }
   ],
   "source": [
    "#QUESTION-3\n",
    "\n",
    "class Marsupial:\n",
    "    def __init__(self):\n",
    "        self.pouch = []    \n",
    "    def put_in_pouch(self, val):        \n",
    "        self.pouch.append(val)    \n",
    "    def pouch_contents(self):        \n",
    "        print(self.pouch)\n",
    "        \n",
    "m = Marsupial()  \n",
    "m.put_in_pouch(\"doll\")    \n",
    "m.put_in_pouch(\"firetruck\")    \n",
    "m.put_in_pouch(\"kitten\")    \n",
    "m.pouch_contents()\n",
    "\n",
    "    \n",
    "class Kangaroo(Marsupial):\n",
    "    def __init__(self, x, y):        \n",
    "        super().__init__()        \n",
    "        self.coordx = x        \n",
    "        self.coordy = y    \n",
    "    def jump(self, dx, dy):        \n",
    "        self.coordx = self.coordx + dx        \n",
    "        self.coordy = self.coordy + dy    \n",
    "    def __str__(self):       \n",
    "        print(\"I am a Kangaroo located at coordinates (%d, %d)\" %(self.coordx, self.coordy))\n",
    "        return \" \"\n",
    "k = Kangaroo(0,0)\n",
    "print(k)\n",
    "k.put_in_pouch(\"doll\")\n",
    "k.put_in_pouch(\"firetruck\")\n",
    "k.put_in_pouch(\"kitten\")\n",
    "k.pouch_contents()\n",
    "k.jump(1, 0)\n",
    "k.jump(1, 0)\n",
    "k.jump(1, 0)\n",
    "print(k)"
   ]
  },
  {
   "cell_type": "code",
   "execution_count": 7,
   "id": "0720f919",
   "metadata": {},
   "outputs": [
    {
     "name": "stdout",
     "output_type": "stream",
     "text": [
      "10\n",
      "5\n",
      "16\n",
      "8\n",
      "4\n",
      "2\n",
      "1\n"
     ]
    }
   ],
   "source": [
    "# QUESTION-4\n",
    "\n",
    "def collatz(x):\n",
    "    lst=[] #empty list to store sequence\n",
    "    \n",
    "    while (x!=1) :\n",
    "        lst.append(x) \n",
    "       \n",
    "        if (x%2==0) :    #if n is even, just divide with 2\n",
    "            x=x//2\n",
    "        else:\n",
    "            x=(3*x)+1    #if n is odd,multiply by 3 and add 1\n",
    "    lst.append(1)  #print 1 in the end   \n",
    "    length=len(lst)\n",
    "\n",
    "   \n",
    "    for i in range(0,length):\n",
    "        print(lst[i])\n",
    "\n",
    "collatz(10)"
   ]
  },
  {
   "cell_type": "code",
   "execution_count": 8,
   "id": "72dfaa95",
   "metadata": {},
   "outputs": [
    {
     "data": {
      "text/plain": [
       "0"
      ]
     },
     "execution_count": 8,
     "metadata": {},
     "output_type": "execute_result"
    }
   ],
   "source": [
    "# QUESTION-5\n",
    "\n",
    "def binary(number):\n",
    "    \n",
    "    if number == 0:\n",
    "        return 0\n",
    "                  \n",
    "    else:\n",
    "        return (number % 2 + 10 *binary(int(number // 2)))       #recursive function to give the binary number\n",
    "    \n",
    "  \n",
    "       \n",
    "        \n",
    "binary(1)\n",
    "binary(10)\n",
    "binary(0)\n",
    "\n"
   ]
  },
  {
   "cell_type": "code",
   "execution_count": 36,
   "id": "73f5829e",
   "metadata": {},
   "outputs": [],
   "source": [
    "# QUESTION-6\n",
    "from html.parser import HTMLParser\n",
    "\n",
    "class HeadingParser(HTMLParser):\n",
    "    inHeading = False\n",
    "    def handle_starttag(self, tag, attrs):\n",
    "        if tag == \"h1\":\n",
    "            self.inHeading = True\n",
    "    def handle_data(self, data):\n",
    "        if self.inHeading:\n",
    "            print(data)\n",
    "    def handle_endtag(self, tag):\n",
    "        if tag ==\"h1\":\n",
    "            self.inHeading = False\n",
    "\n",
    "hParser = HeadingParser()\n",
    "file = open(\"wc.html\", \"r\")\n",
    "html = file.read()\n",
    "file.close()\n",
    "hParser.feed(html)"
   ]
  },
  {
   "cell_type": "code",
   "execution_count": 34,
   "id": "19357cc4",
   "metadata": {},
   "outputs": [],
   "source": [
    "# QUESTION -7\n",
    "\n",
    "import requests \n",
    "from bs4 import BeautifulSoup\n",
    "def webdir(url,depth,indent):\n",
    "    \n",
    "    resp=requests.get(url)\n",
    "    if(depth==indent):\n",
    "        \n",
    "        return\n",
    "    soup=BeautifulSoup(resp.text,'html.parser')    \n",
    "          \n",
    "    for link in soup.findAll('a'):\n",
    "        new_link=link.get('href')\n",
    "        if(new_link.startswith('http')):\n",
    "            webdir(new_link,depth,indent+1)\n",
    "webdir('http://reed.cs.depaul.edu/lperkovic/csc242/test1.html',2,0)"
   ]
  },
  {
   "cell_type": "code",
   "execution_count": 12,
   "id": "1d68e6a8",
   "metadata": {},
   "outputs": [
    {
     "name": "stdout",
     "output_type": "stream",
     "text": [
      "['THE', 'QUICK', 'BROWN', 'FOX', 'JUMPS', 'OVER', 'THE', 'LAZY', 'DOG']\n",
      "\n",
      "\n",
      "['the', 'quick', 'brown', 'fox', 'jumps', 'over', 'the', 'lazy', 'dog']\n",
      "\n",
      "\n",
      "[3, 5, 5, 3, 5, 4, 3, 4, 3]\n",
      "\n",
      "\n",
      "[['THE', 'the', 3], ['QUICK', 'quick', 5], ['BROWN', 'brown', 5], ['FOX', 'fox', 3], ['JUMPS', 'jumps', 5], ['OVER', 'over', 4], ['THE', 'the', 3], ['LAZY', 'lazy', 4], ['DOG', 'dog', 3]]\n",
      "\n",
      "\n",
      "['quick', 'brown', 'jumps', 'over', 'lazy']\n"
     ]
    }
   ],
   "source": [
    "# QUESTION -8\n",
    "\n",
    "words=[\"The\",\"quick\",\"brown\",\"fox\",\"jumps\",\"over\",\"the\",\"lazy\",\"dog\"]\n",
    "#a Convert words into upper case\n",
    "Uppercase=[text.upper() for text in words]\n",
    "print(Uppercase)\n",
    "print(\"\\n\")\n",
    "\n",
    "#bConvert words into lower case\n",
    "Lowercase=[text.lower()for text in words]\n",
    "print(Lowercase)\n",
    "print(\"\\n\")\n",
    "\n",
    "#c the list of length of words in list words\n",
    "lengthofw=[]\n",
    "for a in words:lengthofw.append(len(a))\n",
    "print(lengthofw)\n",
    "print(\"\\n\")\n",
    "\n",
    "#d\n",
    "\n",
    "initializeCounterValue=0\n",
    "singleListArray=[]\n",
    "for j in words:\n",
    "    singleListArray.append(Uppercase[initializeCounterValue])\n",
    "    singleListArray.append(Lowercase[initializeCounterValue])\n",
    "    singleListArray.append(lengthofw[initializeCounterValue])\n",
    "    initializeCounterValue=initializeCounterValue+1\n",
    "    \n",
    "delimiterVariableLimit=3\n",
    "myarray=[singleListArray[additor:additor+delimiterVariableLimit] for \n",
    "additor in range(0,len(singleListArray),delimiterVariableLimit)]\n",
    "print(myarray)\n",
    "print(\"\\n\")\n",
    "\n",
    "#e\n",
    "def wordString(k,str):\n",
    "    string=[]\n",
    "    text=str.split(\" \")\n",
    "    for x in text:\n",
    "        if len(x)>=k:\n",
    "            string.append(x)\n",
    "    return string\n",
    "result_list=[''.join([str(c) for c in t]) for t in words]\n",
    "result_string=' '.join(result_list)\n",
    "charlen=4\n",
    "print(wordString(charlen,result_string))\n"
   ]
  },
  {
   "cell_type": "code",
   "execution_count": null,
   "id": "0ac3a1cc",
   "metadata": {},
   "outputs": [],
   "source": [
    "\n",
    "\n"
   ]
  },
  {
   "cell_type": "code",
   "execution_count": null,
   "id": "94f7cad7",
   "metadata": {},
   "outputs": [],
   "source": []
  }
 ],
 "metadata": {
  "kernelspec": {
   "display_name": "Python 3 (ipykernel)",
   "language": "python",
   "name": "python3"
  },
  "language_info": {
   "codemirror_mode": {
    "name": "ipython",
    "version": 3
   },
   "file_extension": ".py",
   "mimetype": "text/x-python",
   "name": "python",
   "nbconvert_exporter": "python",
   "pygments_lexer": "ipython3",
   "version": "3.9.12"
  }
 },
 "nbformat": 4,
 "nbformat_minor": 5
}
